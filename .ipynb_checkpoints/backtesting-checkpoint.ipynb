{
 "cells": [
  {
   "cell_type": "code",
   "execution_count": 4,
   "id": "ad9180ce",
   "metadata": {},
   "outputs": [],
   "source": [
    "import numpy as np\n",
    "from scipy.stats import norm\n",
    "import pandas as pd"
   ]
  },
  {
   "cell_type": "code",
   "execution_count": 5,
   "id": "54a56a78",
   "metadata": {},
   "outputs": [],
   "source": [
    "def blackScholes(r, S, K, T, sigma, type):\n",
    "    \"\"\"\n",
    "    params:\n",
    "        r: risk-free rate\n",
    "        S: initial stock price\n",
    "        K: strike price\n",
    "        T: maturity in years\n",
    "        sigma: volatility\n",
    "        type: call or put\n",
    "    return:\n",
    "        option price\n",
    "    Calculates the Black-Scholes option price for a call or put option.\n",
    "    \"\"\"\n",
    "    d1 = (np.log(S/K) + (r + sigma**2/2)*T) / (sigma*np.sqrt(T))\n",
    "    d2 = d1 - sigma*np.sqrt(T)\n",
    "    try:\n",
    "        if type == 'call':\n",
    "            return S*norm.cdf(d1, 0, 1) - K*np.exp(-r*T)*norm.cdf(d2, 0, 1)\n",
    "        elif type == 'put':\n",
    "            return K*np.exp(-r*T)*norm.cdf(-d2, 0, 1) - S*norm.cdf(-d1, 0, 1)\n",
    "    except:\n",
    "        print(\"Please check if all inputs are valid.\")"
   ]
  },
  {
   "cell_type": "code",
   "execution_count": 79,
   "id": "f2eced0f",
   "metadata": {},
   "outputs": [],
   "source": [
    "## Underlying Index: NIFTY 19,265.80 As on 25-Aug-2023 15:30:00 IST\n",
    "curPrice = 19265.80"
   ]
  },
  {
   "cell_type": "code",
   "execution_count": 80,
   "id": "4b5fe462",
   "metadata": {},
   "outputs": [],
   "source": [
    "df = pd.read_csv('optiondata_07SEP.csv')\n",
    "df.head()"
   ]
  },
  {
   "cell_type": "code",
   "execution_count": 83,
   "id": "f5b01293",
   "metadata": {},
   "outputs": [
    {
     "name": "stdout",
     "output_type": "stream",
     "text": [
      "Current Price: 19265.8, Strike Price: 19100\n",
      "Original Call Price: 255.55, Predicted Call Price: 233.39727442786898\n",
      "Original Put Price: 80.9, Predicted Call Price: 89.3470633975785\n",
      "\n",
      "\n",
      "Current Price: 19265.8, Strike Price: 19150\n",
      "Original Call Price: 215.0, Predicted Call Price: 194.40363275941127\n",
      "Original Put Price: 96.0, Predicted Call Price: 105.61694555154918\n",
      "\n",
      "\n",
      "Current Price: 19265.8, Strike Price: 19200\n",
      "Original Call Price: 184.3, Predicted Call Price: 166.13345107483474\n",
      "Original Put Price: 115.0, Predicted Call Price: 125.8051041065919\n",
      "\n",
      "\n",
      "Current Price: 19265.8, Strike Price: 19250\n",
      "Original Call Price: 154.25, Predicted Call Price: 137.8779353166865\n",
      "Original Put Price: 136.5, Predicted Call Price: 148.5577225632951\n",
      "\n",
      "\n",
      "Current Price: 19265.8, Strike Price: 19300\n",
      "Original Call Price: 129.25, Predicted Call Price: 114.76830167320986\n",
      "Original Put Price: 157.55, Predicted Call Price: 170.83901164338567\n",
      "\n",
      "\n",
      "Current Price: 19265.8, Strike Price: 19350\n",
      "Original Call Price: 104.5, Predicted Call Price: 91.96017880292857\n",
      "Original Put Price: 185.0, Predicted Call Price: 200.1510865422697\n",
      "\n",
      "\n",
      "Current Price: 19265.8, Strike Price: 19400\n",
      "Original Call Price: 84.4, Predicted Call Price: 73.2816780459425\n",
      "Original Put Price: 214.0, Predicted Call Price: 229.76092482829335\n",
      "\n",
      "\n",
      "Current Price: 19265.8, Strike Price: 19450\n",
      "Original Call Price: 67.3, Predicted Call Price: 58.251733018259074\n",
      "Original Put Price: 256.85, Predicted Call Price: 274.3894959035533\n",
      "\n",
      "\n",
      "Current Price: 19265.8, Strike Price: 19500\n",
      "Original Call Price: 53.35, Predicted Call Price: 45.819473771692174\n",
      "Original Put Price: 288.9, Predicted Call Price: 301.2869506916595\n",
      "\n",
      "\n",
      "Current Price: 19265.8, Strike Price: 19550\n",
      "Original Call Price: 41.85, Predicted Call Price: 35.75712302974489\n",
      "Original Put Price: 319.25, Predicted Call Price: 338.3271195412999\n",
      "\n",
      "\n",
      "Current Price: 19265.8, Strike Price: 19600\n",
      "Original Call Price: 32.5, Predicted Call Price: 27.52119949951748\n",
      "Original Put Price: 361.35, Predicted Call Price: 381.1714102445094\n",
      "\n",
      "\n",
      "Current Price: 19265.8, Strike Price: 19650\n",
      "Original Call Price: 24.9, Predicted Call Price: 20.93323567076277\n",
      "Original Put Price: 407.0, Predicted Call Price: 427.4523469156502\n",
      "\n",
      "\n",
      "Current Price: 19265.8, Strike Price: 19700\n",
      "Original Call Price: 19.55, Predicted Call Price: 16.330531560037798\n",
      "Original Put Price: 447.25, Predicted Call Price: 468.4984436272807\n",
      "\n",
      "\n",
      "Current Price: 19265.8, Strike Price: 19750\n",
      "Original Call Price: 15.7, Predicted Call Price: 13.074666625618192\n",
      "Original Put Price: 444.0, Predicted Call Price: 468.20524277865843\n",
      "\n",
      "\n",
      "Current Price: 19265.8, Strike Price: 19800\n",
      "Original Call Price: 12.2, Predicted Call Price: 10.455343723905571\n",
      "Original Put Price: 543.55, Predicted Call Price: 565.6293923935573\n",
      "\n",
      "\n"
     ]
    }
   ],
   "source": [
    "# Iterate over each option\n",
    "for row in df.itertuples():\n",
    "    callVol = row[1]\n",
    "    callPrice = row[2]\n",
    "    strikePrice = row[3]\n",
    "    putPrice = row[4]\n",
    "    putVol = row[5]\n",
    "    print(f\"Current Price: {curPrice}, Strike Price: {strikePrice}\")\n",
    "    predictedCallPrice = blackScholes(0.06, curPrice, strikePrice, 13/365, callVol/100, 'call')\n",
    "    predictedPutPrice = blackScholes(0.06, curPrice, strikePrice, 13/365, putVol/100, 'put')\n",
    "    print(f\"Original Call Price: {callPrice}, Predicted Call Price: {predictedCallPrice}\")\n",
    "    print(f\"Original Put Price: {putPrice}, Predicted Call Price: {predictedPutPrice}\")\n",
    "    print(\"\\n\")"
   ]
  }
 ],
 "metadata": {
  "kernelspec": {
   "display_name": "Python 3 (ipykernel)",
   "language": "python",
   "name": "python3"
  },
  "language_info": {
   "codemirror_mode": {
    "name": "ipython",
    "version": 3
   },
   "file_extension": ".py",
   "mimetype": "text/x-python",
   "name": "python",
   "nbconvert_exporter": "python",
   "pygments_lexer": "ipython3",
   "version": "3.9.13"
  }
 },
 "nbformat": 4,
 "nbformat_minor": 5
}
